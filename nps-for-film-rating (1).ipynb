{
 "cells": [
  {
   "cell_type": "code",
   "execution_count": 1,
   "id": "b09f9e40",
   "metadata": {
    "_cell_guid": "b1076dfc-b9ad-4769-8c92-a6c4dae69d19",
    "_uuid": "8f2839f25d086af736a60e9eeb907d3b93b6e0e5",
    "execution": {
     "iopub.execute_input": "2024-03-23T06:36:28.236211Z",
     "iopub.status.busy": "2024-03-23T06:36:28.235506Z",
     "iopub.status.idle": "2024-03-23T06:36:29.379590Z",
     "shell.execute_reply": "2024-03-23T06:36:29.378731Z"
    },
    "papermill": {
     "duration": 1.156491,
     "end_time": "2024-03-23T06:36:29.383291",
     "exception": false,
     "start_time": "2024-03-23T06:36:28.226800",
     "status": "completed"
    },
    "tags": []
   },
   "outputs": [
    {
     "name": "stdout",
     "output_type": "stream",
     "text": [
      "/kaggle/input/nps-for-film/survey (1).txt\n"
     ]
    }
   ],
   "source": [
    "# This Python 3 environment comes with many helpful analytics libraries installed\n",
    "# It is defined by the kaggle/python Docker image: https://github.com/kaggle/docker-python\n",
    "# For example, here's several helpful packages to load\n",
    "\n",
    "import numpy as np # linear algebra\n",
    "import pandas as pd # data processing, CSV file I/O (e.g. pd.read_csv)\n",
    "\n",
    "# Input data files are available in the read-only \"../input/\" directory\n",
    "# For example, running this (by clicking run or pressing Shift+Enter) will list all files under the input directory\n",
    "\n",
    "import os\n",
    "for dirname, _, filenames in os.walk('/kaggle/input'):\n",
    "    for filename in filenames:\n",
    "        print(os.path.join(dirname, filename))\n",
    "\n",
    "# You can write up to 20GB to the current directory (/kaggle/working/) that gets preserved as output when you create a version using \"Save & Run All\" \n",
    "# You can also write temporary files to /kaggle/temp/, but they won't be saved outside of the current session"
   ]
  },
  {
   "cell_type": "code",
   "execution_count": 2,
   "id": "db66176e",
   "metadata": {
    "execution": {
     "iopub.execute_input": "2024-03-23T06:36:29.402136Z",
     "iopub.status.busy": "2024-03-23T06:36:29.401061Z",
     "iopub.status.idle": "2024-03-23T06:36:30.979508Z",
     "shell.execute_reply": "2024-03-23T06:36:30.978378Z"
    },
    "papermill": {
     "duration": 1.58973,
     "end_time": "2024-03-23T06:36:30.982537",
     "exception": false,
     "start_time": "2024-03-23T06:36:29.392807",
     "status": "completed"
    },
    "tags": []
   },
   "outputs": [],
   "source": [
    "#ratings of product 1 - 10\n",
    "#importing all the library which are needed to me\n",
    "# here we using text file\n",
    "import numpy as np\n",
    "import pandas as pd\n",
    "import matplotlib.pyplot as plt\n",
    "import seaborn as sns"
   ]
  },
  {
   "cell_type": "code",
   "execution_count": 3,
   "id": "e1ba0fb2",
   "metadata": {
    "execution": {
     "iopub.execute_input": "2024-03-23T06:36:30.997433Z",
     "iopub.status.busy": "2024-03-23T06:36:30.996569Z",
     "iopub.status.idle": "2024-03-23T06:36:31.004739Z",
     "shell.execute_reply": "2024-03-23T06:36:31.003874Z"
    },
    "papermill": {
     "duration": 0.018668,
     "end_time": "2024-03-23T06:36:31.007514",
     "exception": false,
     "start_time": "2024-03-23T06:36:30.988846",
     "status": "completed"
    },
    "tags": []
   },
   "outputs": [],
   "source": [
    "#for text file heres the attribute for it \n",
    "scores = np.loadtxt('/kaggle/input/nps-for-film/survey (1).txt')"
   ]
  },
  {
   "cell_type": "code",
   "execution_count": 4,
   "id": "c247c74a",
   "metadata": {
    "execution": {
     "iopub.execute_input": "2024-03-23T06:36:31.023570Z",
     "iopub.status.busy": "2024-03-23T06:36:31.022821Z",
     "iopub.status.idle": "2024-03-23T06:36:31.029243Z",
     "shell.execute_reply": "2024-03-23T06:36:31.028053Z"
    },
    "papermill": {
     "duration": 0.01878,
     "end_time": "2024-03-23T06:36:31.033195",
     "exception": false,
     "start_time": "2024-03-23T06:36:31.014415",
     "status": "completed"
    },
    "tags": []
   },
   "outputs": [
    {
     "name": "stdout",
     "output_type": "stream",
     "text": [
      "[ 7. 10.  5. ...  5.  9. 10.]\n"
     ]
    }
   ],
   "source": [
    "#show data\n",
    "print(scores)"
   ]
  },
  {
   "cell_type": "code",
   "execution_count": 5,
   "id": "8cee604f",
   "metadata": {
    "execution": {
     "iopub.execute_input": "2024-03-23T06:36:31.049183Z",
     "iopub.status.busy": "2024-03-23T06:36:31.047861Z",
     "iopub.status.idle": "2024-03-23T06:36:31.054602Z",
     "shell.execute_reply": "2024-03-23T06:36:31.053433Z"
    },
    "papermill": {
     "duration": 0.017126,
     "end_time": "2024-03-23T06:36:31.057027",
     "exception": false,
     "start_time": "2024-03-23T06:36:31.039901",
     "status": "completed"
    },
    "tags": []
   },
   "outputs": [
    {
     "name": "stdout",
     "output_type": "stream",
     "text": [
      "1167\n"
     ]
    }
   ],
   "source": [
    "#length odf data\n",
    "print(len(scores))"
   ]
  },
  {
   "cell_type": "code",
   "execution_count": 6,
   "id": "5f6ffc60",
   "metadata": {
    "execution": {
     "iopub.execute_input": "2024-03-23T06:36:31.072739Z",
     "iopub.status.busy": "2024-03-23T06:36:31.072070Z",
     "iopub.status.idle": "2024-03-23T06:36:31.077749Z",
     "shell.execute_reply": "2024-03-23T06:36:31.076700Z"
    },
    "papermill": {
     "duration": 0.016601,
     "end_time": "2024-03-23T06:36:31.080105",
     "exception": false,
     "start_time": "2024-03-23T06:36:31.063504",
     "status": "completed"
    },
    "tags": []
   },
   "outputs": [
    {
     "name": "stdout",
     "output_type": "stream",
     "text": [
      "1\n"
     ]
    }
   ],
   "source": [
    "#dimensions of data\n",
    "print(scores.ndim)"
   ]
  },
  {
   "cell_type": "code",
   "execution_count": 7,
   "id": "ce6bd9a2",
   "metadata": {
    "execution": {
     "iopub.execute_input": "2024-03-23T06:36:31.095265Z",
     "iopub.status.busy": "2024-03-23T06:36:31.094461Z",
     "iopub.status.idle": "2024-03-23T06:36:31.098789Z",
     "shell.execute_reply": "2024-03-23T06:36:31.097940Z"
    },
    "papermill": {
     "duration": 0.014351,
     "end_time": "2024-03-23T06:36:31.100940",
     "exception": false,
     "start_time": "2024-03-23T06:36:31.086589",
     "status": "completed"
    },
    "tags": []
   },
   "outputs": [],
   "source": [
    "#here we want find nps of the data given nps stand for net promoter score \n",
    "#nps=(promoter-demoter)/lengh of score * 100\n",
    "#for promoter putting rating grater than 8\n",
    "# for demoter putting rating less than 7"
   ]
  },
  {
   "cell_type": "code",
   "execution_count": 8,
   "id": "8cfad9bf",
   "metadata": {
    "execution": {
     "iopub.execute_input": "2024-03-23T06:36:31.118260Z",
     "iopub.status.busy": "2024-03-23T06:36:31.117522Z",
     "iopub.status.idle": "2024-03-23T06:36:31.124341Z",
     "shell.execute_reply": "2024-03-23T06:36:31.123537Z"
    },
    "papermill": {
     "duration": 0.019238,
     "end_time": "2024-03-23T06:36:31.126798",
     "exception": false,
     "start_time": "2024-03-23T06:36:31.107560",
     "status": "completed"
    },
    "tags": []
   },
   "outputs": [
    {
     "name": "stdout",
     "output_type": "stream",
     "text": [
      "[False  True False ... False  True  True]\n"
     ]
    }
   ],
   "source": [
    "#promoter masking it\n",
    "promoter_mask=scores>8\n",
    "print(promoter_mask)"
   ]
  },
  {
   "cell_type": "code",
   "execution_count": 9,
   "id": "38a134b4",
   "metadata": {
    "execution": {
     "iopub.execute_input": "2024-03-23T06:36:31.142781Z",
     "iopub.status.busy": "2024-03-23T06:36:31.142036Z",
     "iopub.status.idle": "2024-03-23T06:36:31.153874Z",
     "shell.execute_reply": "2024-03-23T06:36:31.152646Z"
    },
    "papermill": {
     "duration": 0.023441,
     "end_time": "2024-03-23T06:36:31.157025",
     "exception": false,
     "start_time": "2024-03-23T06:36:31.133584",
     "status": "completed"
    },
    "tags": []
   },
   "outputs": [
    {
     "name": "stdout",
     "output_type": "stream",
     "text": [
      "[10.  9.  9.  9.  9.  9. 10.  9.  9. 10.  9.  9.  9.  9.  9.  9.  9. 10.\n",
      " 10.  9. 10.  9. 10.  9.  9. 10. 10.  9. 10.  9. 10. 10. 10.  9.  9. 10.\n",
      " 10. 10.  9. 10.  9. 10.  9.  9.  9. 10.  9.  9.  9.  9.  9.  9. 10.  9.\n",
      "  9.  9. 10.  9. 10.  9.  9.  9.  9.  9. 10. 10.  9. 10.  9.  9. 10.  9.\n",
      "  9. 10.  9.  9.  9.  9.  9.  9.  9.  9.  9.  9.  9. 10.  9.  9.  9.  9.\n",
      "  9.  9.  9.  9. 10.  9.  9.  9.  9.  9. 10. 10.  9. 10. 10. 10. 10.  9.\n",
      " 10.  9.  9.  9.  9.  9.  9.  9. 10.  9. 10.  9. 10.  9. 10. 10. 10.  9.\n",
      "  9. 10. 10.  9.  9.  9.  9. 10.  9.  9.  9.  9. 10. 10.  9.  9.  9. 10.\n",
      "  9.  9.  9.  9.  9. 10.  9.  9.  9. 10.  9. 10. 10.  9.  9.  9.  9. 10.\n",
      "  9. 10.  9.  9.  9.  9. 10.  9. 10.  9.  9.  9.  9.  9.  9.  9.  9.  9.\n",
      "  9.  9. 10. 10.  9.  9.  9. 10.  9. 10. 10. 10. 10. 10.  9.  9.  9.  9.\n",
      " 10. 10. 10.  9.  9. 10.  9. 10. 10. 10. 10.  9. 10. 10.  9. 10.  9.  9.\n",
      "  9.  9. 10.  9. 10.  9. 10.  9.  9.  9.  9. 10.  9.  9.  9.  9.  9. 10.\n",
      "  9. 10. 10.  9. 10. 10. 10.  9.  9.  9.  9.  9.  9. 10.  9.  9. 10.  9.\n",
      " 10. 10.  9.  9.  9. 10. 10. 10. 10.  9.  9.  9. 10. 10.  9. 10.  9.  9.\n",
      "  9. 10.  9.  9.  9.  9.  9.  9.  9.  9.  9.  9. 10.  9.  9.  9. 10.  9.\n",
      " 10.  9. 10.  9. 10.  9.  9. 10. 10.  9.  9.  9. 10.  9.  9. 10.  9.  9.\n",
      "  9.  9.  9.  9. 10. 10.  9. 10.  9.  9.  9.  9. 10.  9.  9.  9.  9. 10.\n",
      "  9. 10.  9. 10.  9. 10. 10.  9. 10. 10.  9. 10.  9.  9.  9.  9.  9. 10.\n",
      "  9. 10. 10.  9. 10. 10.  9.  9. 10.  9. 10. 10.  9. 10. 10. 10.  9.  9.\n",
      "  9. 10.  9.  9.  9. 10.  9.  9.  9.  9.  9. 10.  9.  9.  9. 10.  9.  9.\n",
      "  9.  9.  9. 10.  9. 10.  9.  9. 10.  9.  9.  9.  9.  9.  9. 10.  9.  9.\n",
      "  9.  9.  9.  9.  9.  9.  9.  9. 10.  9. 10.  9.  9.  9.  9.  9.  9.  9.\n",
      "  9.  9.  9.  9.  9.  9.  9. 10. 10.  9.  9.  9.  9. 10.  9. 10.  9. 10.\n",
      " 10.  9.  9. 10.  9. 10. 10. 10.  9.  9.  9. 10. 10.  9.  9.  9. 10.  9.\n",
      "  9.  9.  9. 10.  9. 10.  9.  9. 10.  9.  9.  9. 10.  9.  9.  9.  9. 10.\n",
      "  9.  9.  9.  9.  9.  9. 10.  9. 10. 10.  9.  9.  9. 10. 10. 10. 10.  9.\n",
      "  9. 10. 10.  9. 10.  9. 10.  9. 10.  9.  9. 10.  9. 10. 10.  9.  9.  9.\n",
      "  9.  9.  9.  9.  9.  9.  9.  9.  9.  9.  9.  9.  9.  9.  9.  9.  9.  9.\n",
      "  9.  9.  9.  9.  9. 10. 10.  9.  9.  9.  9. 10. 10.  9. 10. 10.  9. 10.\n",
      " 10.  9. 10. 10. 10.  9.  9. 10. 10. 10.  9.  9. 10. 10.  9.  9.  9.  9.\n",
      "  9.  9. 10. 10. 10. 10. 10. 10.  9.  9.  9.  9. 10. 10.  9.  9.  9.  9.\n",
      "  9. 10. 10.  9. 10. 10.  9. 10. 10.  9. 10. 10.  9. 10.  9. 10. 10.  9.\n",
      " 10. 10.  9.  9.  9.  9. 10.  9.  9. 10. 10. 10. 10.  9. 10.]\n"
     ]
    }
   ],
   "source": [
    "#counting the promoters\n",
    "promoters=scores[promoter_mask]\n",
    "\n",
    "print(promoters)"
   ]
  },
  {
   "cell_type": "code",
   "execution_count": 10,
   "id": "3d191365",
   "metadata": {
    "execution": {
     "iopub.execute_input": "2024-03-23T06:36:31.173845Z",
     "iopub.status.busy": "2024-03-23T06:36:31.172665Z",
     "iopub.status.idle": "2024-03-23T06:36:31.179817Z",
     "shell.execute_reply": "2024-03-23T06:36:31.178380Z"
    },
    "papermill": {
     "duration": 0.018107,
     "end_time": "2024-03-23T06:36:31.182233",
     "exception": false,
     "start_time": "2024-03-23T06:36:31.164126",
     "status": "completed"
    },
    "tags": []
   },
   "outputs": [
    {
     "name": "stdout",
     "output_type": "stream",
     "text": [
      "609\n"
     ]
    }
   ],
   "source": [
    "#total Promoters\n",
    "print(len(promoters))\n",
    "num_promoters=len(promoters)"
   ]
  },
  {
   "cell_type": "code",
   "execution_count": 11,
   "id": "88b5b183",
   "metadata": {
    "execution": {
     "iopub.execute_input": "2024-03-23T06:36:31.198430Z",
     "iopub.status.busy": "2024-03-23T06:36:31.197980Z",
     "iopub.status.idle": "2024-03-23T06:36:31.203939Z",
     "shell.execute_reply": "2024-03-23T06:36:31.203089Z"
    },
    "papermill": {
     "duration": 0.016963,
     "end_time": "2024-03-23T06:36:31.206269",
     "exception": false,
     "start_time": "2024-03-23T06:36:31.189306",
     "status": "completed"
    },
    "tags": []
   },
   "outputs": [
    {
     "name": "stdout",
     "output_type": "stream",
     "text": [
      "[False False  True ...  True False False]\n"
     ]
    }
   ],
   "source": [
    "#same with demoters condition is < 7 \n",
    "demoter_mask=scores<7\n",
    "print (demoter_mask)"
   ]
  },
  {
   "cell_type": "code",
   "execution_count": 12,
   "id": "a700b687",
   "metadata": {
    "execution": {
     "iopub.execute_input": "2024-03-23T06:36:31.222295Z",
     "iopub.status.busy": "2024-03-23T06:36:31.221482Z",
     "iopub.status.idle": "2024-03-23T06:36:31.231576Z",
     "shell.execute_reply": "2024-03-23T06:36:31.230225Z"
    },
    "papermill": {
     "duration": 0.020933,
     "end_time": "2024-03-23T06:36:31.234161",
     "exception": false,
     "start_time": "2024-03-23T06:36:31.213228",
     "status": "completed"
    },
    "tags": []
   },
   "outputs": [
    {
     "name": "stdout",
     "output_type": "stream",
     "text": [
      "[5. 4. 4. 5. 1. 5. 5. 1. 4. 5. 4. 4. 4. 5. 1. 4. 1. 4. 1. 5. 5. 1. 1. 4.\n",
      " 1. 5. 4. 1. 1. 4. 1. 5. 1. 4. 4. 1. 1. 1. 1. 1. 1. 1. 4. 1. 1. 5. 5. 5.\n",
      " 4. 4. 1. 4. 1. 4. 1. 5. 1. 1. 5. 4. 4. 4. 4. 1. 4. 5. 4. 4. 1. 1. 5. 5.\n",
      " 1. 5. 1. 5. 5. 4. 5. 4. 1. 1. 1. 1. 4. 1. 4. 4. 5. 4. 1. 1. 1. 1. 5. 4.\n",
      " 5. 5. 4. 1. 5. 1. 4. 4. 1. 1. 1. 4. 4. 5. 5. 4. 5. 5. 5. 1. 4. 1. 5. 5.\n",
      " 1. 5. 1. 1. 5. 5. 4. 4. 1. 4. 4. 4. 1. 1. 4. 4. 4. 5. 5. 1. 1. 4. 1. 4.\n",
      " 1. 4. 1. 4. 1. 4. 1. 5. 4. 4. 5. 1. 4. 5. 5. 5. 1. 5. 4. 1. 1. 5. 5. 5.\n",
      " 4. 5. 4. 4. 1. 4. 4. 4. 4. 5. 1. 5. 5. 1. 4. 4. 5. 1. 1. 4. 5. 5. 5. 1.\n",
      " 4. 5. 5. 4. 1. 5. 5. 5. 1. 1. 5. 5. 1. 1. 1. 4. 5. 5. 4. 4. 4. 5. 1. 4.\n",
      " 1. 4. 5. 4. 5. 5. 1. 5. 1. 5. 5. 1. 4. 5. 5. 4. 1. 5. 1. 4. 1. 4. 1. 1.\n",
      " 1. 1. 1. 1. 4. 1. 5. 4. 5. 1. 5. 1. 5. 4. 4. 4. 4. 5. 5. 1. 4. 1. 5. 5.\n",
      " 1. 4. 1. 1. 4. 4. 4. 4. 1. 4. 1. 1. 4. 1. 5. 4. 1. 1. 5. 4. 5. 4. 4. 4.\n",
      " 1. 5. 5. 1. 4. 5. 4. 4. 4. 1. 4. 1. 4. 4. 4. 5. 1. 1. 1. 4. 5. 5. 1. 5.\n",
      " 4. 5. 5. 4. 1. 1. 5. 5. 5. 1. 4. 5. 4. 5. 5. 5. 1. 4. 1. 5.]\n"
     ]
    }
   ],
   "source": [
    "#counting the demoters\n",
    "demoter=scores[demoter_mask]\n",
    "print(demoter)"
   ]
  },
  {
   "cell_type": "code",
   "execution_count": 13,
   "id": "0eab6722",
   "metadata": {
    "execution": {
     "iopub.execute_input": "2024-03-23T06:36:31.251068Z",
     "iopub.status.busy": "2024-03-23T06:36:31.250666Z",
     "iopub.status.idle": "2024-03-23T06:36:31.256713Z",
     "shell.execute_reply": "2024-03-23T06:36:31.255567Z"
    },
    "papermill": {
     "duration": 0.017962,
     "end_time": "2024-03-23T06:36:31.259595",
     "exception": false,
     "start_time": "2024-03-23T06:36:31.241633",
     "status": "completed"
    },
    "tags": []
   },
   "outputs": [
    {
     "name": "stdout",
     "output_type": "stream",
     "text": [
      "332\n"
     ]
    }
   ],
   "source": [
    "#total demoters\n",
    "print(len(demoter))\n",
    "num_demoters=len(demoter)"
   ]
  },
  {
   "cell_type": "code",
   "execution_count": 14,
   "id": "8b10bf7c",
   "metadata": {
    "execution": {
     "iopub.execute_input": "2024-03-23T06:36:31.277204Z",
     "iopub.status.busy": "2024-03-23T06:36:31.276086Z",
     "iopub.status.idle": "2024-03-23T06:36:31.281995Z",
     "shell.execute_reply": "2024-03-23T06:36:31.280877Z"
    },
    "papermill": {
     "duration": 0.017597,
     "end_time": "2024-03-23T06:36:31.284740",
     "exception": false,
     "start_time": "2024-03-23T06:36:31.267143",
     "status": "completed"
    },
    "tags": []
   },
   "outputs": [
    {
     "name": "stdout",
     "output_type": "stream",
     "text": [
      "1167\n"
     ]
    }
   ],
   "source": [
    "#total reviews\n",
    "total_reviews = len(scores)\n",
    "print(total_reviews)"
   ]
  },
  {
   "cell_type": "code",
   "execution_count": 15,
   "id": "bf49bfa8",
   "metadata": {
    "execution": {
     "iopub.execute_input": "2024-03-23T06:36:31.301528Z",
     "iopub.status.busy": "2024-03-23T06:36:31.301145Z",
     "iopub.status.idle": "2024-03-23T06:36:31.305868Z",
     "shell.execute_reply": "2024-03-23T06:36:31.304925Z"
    },
    "papermill": {
     "duration": 0.017243,
     "end_time": "2024-03-23T06:36:31.309323",
     "exception": false,
     "start_time": "2024-03-23T06:36:31.292080",
     "status": "completed"
    },
    "tags": []
   },
   "outputs": [
    {
     "name": "stdout",
     "output_type": "stream",
     "text": [
      "23.736075407026565\n"
     ]
    }
   ],
   "source": [
    "# Finding Net Promoted Score\n",
    "nps =((num_promoters-num_demoters)/total_reviews)*100\n",
    "print(nps)"
   ]
  },
  {
   "cell_type": "markdown",
   "id": "729251ed",
   "metadata": {
    "papermill": {
     "duration": 0.008278,
     "end_time": "2024-03-23T06:36:31.325109",
     "exception": false,
     "start_time": "2024-03-23T06:36:31.316831",
     "status": "completed"
    },
    "tags": []
   },
   "source": [
    "# ****Findins: We get 23.73nps for the film which is very low "
   ]
  }
 ],
 "metadata": {
  "kaggle": {
   "accelerator": "none",
   "dataSources": [
    {
     "datasetId": 4653810,
     "sourceId": 7919723,
     "sourceType": "datasetVersion"
    }
   ],
   "dockerImageVersionId": 30673,
   "isGpuEnabled": false,
   "isInternetEnabled": true,
   "language": "python",
   "sourceType": "notebook"
  },
  "kernelspec": {
   "display_name": "Python 3",
   "language": "python",
   "name": "python3"
  },
  "language_info": {
   "codemirror_mode": {
    "name": "ipython",
    "version": 3
   },
   "file_extension": ".py",
   "mimetype": "text/x-python",
   "name": "python",
   "nbconvert_exporter": "python",
   "pygments_lexer": "ipython3",
   "version": "3.10.13"
  },
  "papermill": {
   "default_parameters": {},
   "duration": 6.960333,
   "end_time": "2024-03-23T06:36:31.954349",
   "environment_variables": {},
   "exception": null,
   "input_path": "__notebook__.ipynb",
   "output_path": "__notebook__.ipynb",
   "parameters": {},
   "start_time": "2024-03-23T06:36:24.994016",
   "version": "2.5.0"
  }
 },
 "nbformat": 4,
 "nbformat_minor": 5
}
